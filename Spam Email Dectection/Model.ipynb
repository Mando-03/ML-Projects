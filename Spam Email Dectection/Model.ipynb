{
 "cells": [
  {
   "cell_type": "markdown",
   "metadata": {},
   "source": [
    "<center><h1 style=\"font-size:35px; font-family: 'Times New Roman'; letter-spacing: 0.1em;\">  Spam E-Mail Detection 📧 </h1></center>"
   ]
  },
  {
   "cell_type": "code",
   "execution_count": 31,
   "metadata": {},
   "outputs": [],
   "source": [
    "import pandas as pd\n",
    "import seaborn as sns\n",
    "import matplotlib.pyplot as plt\n",
    "import warnings\n",
    "warnings.filterwarnings('ignore')\n",
    "\n",
    "from sklearn.neighbors import KNeighborsClassifier\n",
    "from sklearn.tree import DecisionTreeClassifier\n",
    "from sklearn.naive_bayes import MultinomialNB\n",
    "from sklearn.model_selection import train_test_split\n",
    "from sklearn.feature_extraction.text import CountVectorizer\n",
    "from sklearn.metrics import accuracy_score , classification_report , ConfusionMatrixDisplay , confusion_matrix\n",
    "from sklearn.pipeline import Pipeline\n",
    "import joblib"
   ]
  },
  {
   "cell_type": "markdown",
   "metadata": {},
   "source": [
    "<h1 style=\"font-family: 'Times New Roman'; letter-spacing: 0.08em;\">Loading the Data</h1>"
   ]
  },
  {
   "cell_type": "code",
   "execution_count": 32,
   "metadata": {},
   "outputs": [
    {
     "data": {
      "text/html": [
       "<div>\n",
       "<style scoped>\n",
       "    .dataframe tbody tr th:only-of-type {\n",
       "        vertical-align: middle;\n",
       "    }\n",
       "\n",
       "    .dataframe tbody tr th {\n",
       "        vertical-align: top;\n",
       "    }\n",
       "\n",
       "    .dataframe thead th {\n",
       "        text-align: right;\n",
       "    }\n",
       "</style>\n",
       "<table border=\"1\" class=\"dataframe\">\n",
       "  <thead>\n",
       "    <tr style=\"text-align: right;\">\n",
       "      <th></th>\n",
       "      <th>Category</th>\n",
       "      <th>Message</th>\n",
       "    </tr>\n",
       "  </thead>\n",
       "  <tbody>\n",
       "    <tr>\n",
       "      <th>0</th>\n",
       "      <td>ham</td>\n",
       "      <td>Go until jurong point, crazy.. Available only ...</td>\n",
       "    </tr>\n",
       "    <tr>\n",
       "      <th>1</th>\n",
       "      <td>ham</td>\n",
       "      <td>Ok lar... Joking wif u oni...</td>\n",
       "    </tr>\n",
       "    <tr>\n",
       "      <th>2</th>\n",
       "      <td>spam</td>\n",
       "      <td>Free entry in 2 a wkly comp to win FA Cup fina...</td>\n",
       "    </tr>\n",
       "    <tr>\n",
       "      <th>3</th>\n",
       "      <td>ham</td>\n",
       "      <td>U dun say so early hor... U c already then say...</td>\n",
       "    </tr>\n",
       "    <tr>\n",
       "      <th>4</th>\n",
       "      <td>ham</td>\n",
       "      <td>Nah I don't think he goes to usf, he lives aro...</td>\n",
       "    </tr>\n",
       "  </tbody>\n",
       "</table>\n",
       "</div>"
      ],
      "text/plain": [
       "  Category                                            Message\n",
       "0      ham  Go until jurong point, crazy.. Available only ...\n",
       "1      ham                      Ok lar... Joking wif u oni...\n",
       "2     spam  Free entry in 2 a wkly comp to win FA Cup fina...\n",
       "3      ham  U dun say so early hor... U c already then say...\n",
       "4      ham  Nah I don't think he goes to usf, he lives aro..."
      ]
     },
     "execution_count": 32,
     "metadata": {},
     "output_type": "execute_result"
    }
   ],
   "source": [
    "df = pd.read_csv(\"sms_data.csv\")\n",
    "df.head()"
   ]
  },
  {
   "cell_type": "markdown",
   "metadata": {},
   "source": [
    "<h1 style=\"font-family: 'Times New Roman'; letter-spacing: 0.08em;\">EDA</h1>"
   ]
  },
  {
   "cell_type": "code",
   "execution_count": 33,
   "metadata": {},
   "outputs": [
    {
     "data": {
      "text/html": [
       "<div>\n",
       "<style scoped>\n",
       "    .dataframe tbody tr th:only-of-type {\n",
       "        vertical-align: middle;\n",
       "    }\n",
       "\n",
       "    .dataframe tbody tr th {\n",
       "        vertical-align: top;\n",
       "    }\n",
       "\n",
       "    .dataframe thead tr th {\n",
       "        text-align: left;\n",
       "    }\n",
       "\n",
       "    .dataframe thead tr:last-of-type th {\n",
       "        text-align: right;\n",
       "    }\n",
       "</style>\n",
       "<table border=\"1\" class=\"dataframe\">\n",
       "  <thead>\n",
       "    <tr>\n",
       "      <th></th>\n",
       "      <th colspan=\"4\" halign=\"left\">Message</th>\n",
       "    </tr>\n",
       "    <tr>\n",
       "      <th></th>\n",
       "      <th>count</th>\n",
       "      <th>unique</th>\n",
       "      <th>top</th>\n",
       "      <th>freq</th>\n",
       "    </tr>\n",
       "    <tr>\n",
       "      <th>Category</th>\n",
       "      <th></th>\n",
       "      <th></th>\n",
       "      <th></th>\n",
       "      <th></th>\n",
       "    </tr>\n",
       "  </thead>\n",
       "  <tbody>\n",
       "    <tr>\n",
       "      <th>ham</th>\n",
       "      <td>4825</td>\n",
       "      <td>4516</td>\n",
       "      <td>Sorry, I'll call later</td>\n",
       "      <td>30</td>\n",
       "    </tr>\n",
       "    <tr>\n",
       "      <th>spam</th>\n",
       "      <td>747</td>\n",
       "      <td>641</td>\n",
       "      <td>Please call our customer service representativ...</td>\n",
       "      <td>4</td>\n",
       "    </tr>\n",
       "  </tbody>\n",
       "</table>\n",
       "</div>"
      ],
      "text/plain": [
       "         Message                                                            \\\n",
       "           count unique                                                top   \n",
       "Category                                                                     \n",
       "ham         4825   4516                             Sorry, I'll call later   \n",
       "spam         747    641  Please call our customer service representativ...   \n",
       "\n",
       "               \n",
       "         freq  \n",
       "Category       \n",
       "ham        30  \n",
       "spam        4  "
      ]
     },
     "execution_count": 33,
     "metadata": {},
     "output_type": "execute_result"
    }
   ],
   "source": [
    "df.groupby('Category').describe()"
   ]
  },
  {
   "cell_type": "code",
   "execution_count": 34,
   "metadata": {},
   "outputs": [
    {
     "data": {
      "text/plain": [
       "(5572, 2)"
      ]
     },
     "execution_count": 34,
     "metadata": {},
     "output_type": "execute_result"
    }
   ],
   "source": [
    "df.shape"
   ]
  },
  {
   "cell_type": "code",
   "execution_count": 35,
   "metadata": {},
   "outputs": [
    {
     "data": {
      "text/plain": [
       "11144"
      ]
     },
     "execution_count": 35,
     "metadata": {},
     "output_type": "execute_result"
    }
   ],
   "source": [
    "df.size"
   ]
  },
  {
   "cell_type": "code",
   "execution_count": 36,
   "metadata": {},
   "outputs": [
    {
     "data": {
      "text/plain": [
       "Category\n",
       "ham     4825\n",
       "spam     747\n",
       "Name: count, dtype: int64"
      ]
     },
     "execution_count": 36,
     "metadata": {},
     "output_type": "execute_result"
    }
   ],
   "source": [
    "df.Category.value_counts()"
   ]
  },
  {
   "cell_type": "code",
   "execution_count": 37,
   "metadata": {},
   "outputs": [
    {
     "data": {
      "text/plain": [
       "<Axes: xlabel='Category', ylabel='count'>"
      ]
     },
     "execution_count": 37,
     "metadata": {},
     "output_type": "execute_result"
    },
    {
     "data": {
      "image/png": "[encoded data removed]",
      "text/plain": [
       "<Figure size 640x480 with 1 Axes>"
      ]
     },
     "metadata": {},
     "output_type": "display_data"
    }
   ],
   "source": [
    "sns.countplot(x='Category', data=df ,palette=['g','r'])"
   ]
  },
  {
   "cell_type": "markdown",
   "metadata": {},
   "source": [
    "<h1 style=\"font-family: 'Times New Roman'; letter-spacing: 0.08em;\">Null Values</h1>"
   ]
  },
  {
   "cell_type": "code",
   "execution_count": 38,
   "metadata": {},
   "outputs": [
    {
     "data": {
      "text/html": [
       "<div>\n",
       "<style scoped>\n",
       "    .dataframe tbody tr th:only-of-type {\n",
       "        vertical-align: middle;\n",
       "    }\n",
       "\n",
       "    .dataframe tbody tr th {\n",
       "        vertical-align: top;\n",
       "    }\n",
       "\n",
       "    .dataframe thead th {\n",
       "        text-align: right;\n",
       "    }\n",
       "</style>\n",
       "<table border=\"1\" class=\"dataframe\">\n",
       "  <thead>\n",
       "    <tr style=\"text-align: right;\">\n",
       "      <th></th>\n",
       "      <th>total_missing</th>\n",
       "      <th>perc_missing</th>\n",
       "    </tr>\n",
       "  </thead>\n",
       "  <tbody>\n",
       "    <tr>\n",
       "      <th>Category</th>\n",
       "      <td>0</td>\n",
       "      <td>0.0</td>\n",
       "    </tr>\n",
       "    <tr>\n",
       "      <th>Message</th>\n",
       "      <td>0</td>\n",
       "      <td>0.0</td>\n",
       "    </tr>\n",
       "  </tbody>\n",
       "</table>\n",
       "</div>"
      ],
      "text/plain": [
       "          total_missing  perc_missing\n",
       "Category              0           0.0\n",
       "Message               0           0.0"
      ]
     },
     "execution_count": 38,
     "metadata": {},
     "output_type": "execute_result"
    }
   ],
   "source": [
    "missing_data = pd.DataFrame({'total_missing': df.isnull().sum(), 'perc_missing': (df.isnull().sum()/5572)*100})\n",
    "missing_data"
   ]
  },
  {
   "cell_type": "markdown",
   "metadata": {},
   "source": [
    "<h1 style=\"font-family: 'Times New Roman'; letter-spacing: 0.08em;\">Feature Engineering</h1>"
   ]
  },
  {
   "cell_type": "code",
   "execution_count": 39,
   "metadata": {},
   "outputs": [
    {
     "data": {
      "text/html": [
       "<div>\n",
       "<style scoped>\n",
       "    .dataframe tbody tr th:only-of-type {\n",
       "        vertical-align: middle;\n",
       "    }\n",
       "\n",
       "    .dataframe tbody tr th {\n",
       "        vertical-align: top;\n",
       "    }\n",
       "\n",
       "    .dataframe thead th {\n",
       "        text-align: right;\n",
       "    }\n",
       "</style>\n",
       "<table border=\"1\" class=\"dataframe\">\n",
       "  <thead>\n",
       "    <tr style=\"text-align: right;\">\n",
       "      <th></th>\n",
       "      <th>Category</th>\n",
       "      <th>Message</th>\n",
       "      <th>spam</th>\n",
       "    </tr>\n",
       "  </thead>\n",
       "  <tbody>\n",
       "    <tr>\n",
       "      <th>0</th>\n",
       "      <td>ham</td>\n",
       "      <td>Go until jurong point, crazy.. Available only ...</td>\n",
       "      <td>0</td>\n",
       "    </tr>\n",
       "    <tr>\n",
       "      <th>1</th>\n",
       "      <td>ham</td>\n",
       "      <td>Ok lar... Joking wif u oni...</td>\n",
       "      <td>0</td>\n",
       "    </tr>\n",
       "    <tr>\n",
       "      <th>2</th>\n",
       "      <td>spam</td>\n",
       "      <td>Free entry in 2 a wkly comp to win FA Cup fina...</td>\n",
       "      <td>1</td>\n",
       "    </tr>\n",
       "    <tr>\n",
       "      <th>3</th>\n",
       "      <td>ham</td>\n",
       "      <td>U dun say so early hor... U c already then say...</td>\n",
       "      <td>0</td>\n",
       "    </tr>\n",
       "    <tr>\n",
       "      <th>4</th>\n",
       "      <td>ham</td>\n",
       "      <td>Nah I don't think he goes to usf, he lives aro...</td>\n",
       "      <td>0</td>\n",
       "    </tr>\n",
       "  </tbody>\n",
       "</table>\n",
       "</div>"
      ],
      "text/plain": [
       "  Category                                            Message  spam\n",
       "0      ham  Go until jurong point, crazy.. Available only ...     0\n",
       "1      ham                      Ok lar... Joking wif u oni...     0\n",
       "2     spam  Free entry in 2 a wkly comp to win FA Cup fina...     1\n",
       "3      ham  U dun say so early hor... U c already then say...     0\n",
       "4      ham  Nah I don't think he goes to usf, he lives aro...     0"
      ]
     },
     "execution_count": 39,
     "metadata": {},
     "output_type": "execute_result"
    }
   ],
   "source": [
    "df['spam']=df['Category'].apply(lambda x: 1 if x=='spam' else 0)\n",
    "df.head()"
   ]
  },
  {
   "cell_type": "code",
   "execution_count": 40,
   "metadata": {},
   "outputs": [
    {
     "name": "stdout",
     "output_type": "stream",
     "text": [
      "(1393,)\n",
      "(4179,)\n"
     ]
    }
   ],
   "source": [
    "X_train, X_test, y_train, y_test = train_test_split(df.Message,df.spam)\n",
    "print(X_test.shape)\n",
    "print(X_train.shape)"
   ]
  },
  {
   "cell_type": "code",
   "execution_count": 41,
   "metadata": {},
   "outputs": [
    {
     "data": {
      "text/plain": [
       "2802                        Depends on where u going lor.\n",
       "3453                             Ugh just got outta class\n",
       "2162    Is she replying. Has boye changed his phone nu...\n",
       "482     Yo carlos, a few friends are already asking me...\n",
       "Name: Message, dtype: object"
      ]
     },
     "execution_count": 41,
     "metadata": {},
     "output_type": "execute_result"
    }
   ],
   "source": [
    "X_train[:4]"
   ]
  },
  {
   "cell_type": "markdown",
   "metadata": {},
   "source": [
    "<h1 style=\"font-family: 'Times New Roman'; letter-spacing: 0.08em;\">Bag-of-Words Representation</h1>\n"
   ]
  },
  {
   "cell_type": "code",
   "execution_count": 42,
   "metadata": {},
   "outputs": [
    {
     "data": {
      "text/plain": [
       "array([[0, 0, 0, ..., 0, 0, 0],\n",
       "       [0, 0, 0, ..., 0, 0, 0]], dtype=int64)"
      ]
     },
     "execution_count": 42,
     "metadata": {},
     "output_type": "execute_result"
    }
   ],
   "source": [
    "cv = CountVectorizer(ngram_range=(1, 1))\n",
    "X_train_count = cv.fit_transform(X_train.values)\n",
    "X_train_count.toarray()[:2]"
   ]
  },
  {
   "cell_type": "markdown",
   "metadata": {},
   "source": [
    "if you want to try TF-IDF Vectorizer\n",
    "\n",
    "feature_extraction = TfidfVectorizer(min_df = 1, stop_words='english', lowercase=True)   \n",
    "X_train_features = feature_extraction.fit_transform(X_train)    \n",
    "X_test_features = feature_extraction.transform(X_test)    \n",
    "Y_train = Y_train.astype('int')    \n",
    "Y_test = Y_test.astype('int')"
   ]
  },
  {
   "cell_type": "code",
   "execution_count": 43,
   "metadata": {},
   "outputs": [
    {
     "data": {
      "text/plain": [
       "(4179, 7487)"
      ]
     },
     "execution_count": 43,
     "metadata": {},
     "output_type": "execute_result"
    }
   ],
   "source": [
    "X_train_count.shape"
   ]
  },
  {
   "cell_type": "code",
   "execution_count": 44,
   "metadata": {},
   "outputs": [
    {
     "data": {
      "text/plain": [
       "array(['approx', 'apps', 'appt', 'appy', 'april', 'aproach', 'apt',\n",
       "       'aptitude', 'ar', 'arab', 'arabian', 'arcade', 'archive', 'ard',\n",
       "       'are', 'area', 'aren', 'arent', 'arestaurant', 'aretaking',\n",
       "       'areyouunique', 'argh', 'argue', 'arguing', 'argument',\n",
       "       'arguments', 'aries', 'arises', 'arithmetic', 'arm', 'armand',\n",
       "       'armenia', 'arms', 'arng', 'arngd', 'arnt', 'around', 'arr',\n",
       "       'arrange', 'arranging', 'arrested', 'arrival', 'arrive', 'arrived',\n",
       "       'arrow', 'arsenal', 'art', 'artists', 'arts', 'arty', 'arul',\n",
       "       'arun', 'as', 'asa', 'asap', 'asda', 'asia', 'asian', 'asjesus',\n",
       "       'ask', 'askd', 'asked', 'askin', 'asking', 'asks', 'asleep', 'asp',\n",
       "       'aspects', 'ass', 'assessment', 'asshole', 'assistance',\n",
       "       'associate', 'asssssholeeee', 'assume', 'assumed', 'asthere',\n",
       "       'asthma', 'astne', 'astoundingly', 'astronomer', 'asus', 'asusual',\n",
       "       'at', 'ate', 'athletic', 'athome', 'atlanta', 'atleast', 'atm',\n",
       "       'atrocious', 'attach', 'attached', 'attack', 'attempt', 'attend',\n",
       "       'attending', 'attention', 'attitude', 'attractive', 'attracts',\n",
       "       'attributed', 'atural', 'auction', 'audiitions', 'audition',\n",
       "       'audrey', 'audrie', 'august', 'aunt', 'aunties', 'aunts', 'aunty',\n",
       "       'aust', 'auto', 'autocorrect', 'av', 'ava', 'availa', 'available',\n",
       "       'avalarr', 'avatar', 'avble', 'ave', 'avent', 'avin', 'avo',\n",
       "       'avoid', 'avoiding', 'await', 'awaiting', 'awake', 'award',\n",
       "       'awarded', 'away', 'awesome', 'awkward', 'aww', 'ay', 'ayn', 'ayo',\n",
       "       'b4', 'b4190604', 'b4u', 'b4utele', 'ba', 'ba128nnfwfly150ppm',\n",
       "       'baaaaaaaabe', 'baaaaabe', 'babe', 'babes', 'babies', 'baby',\n",
       "       'babygoodbye', 'babysitting', 'bac', 'back', 'backdoor',\n",
       "       'backwards', 'bad', 'badass', 'badly', 'badrith', 'bag', 'bags',\n",
       "       'bahamas', 'baig', 'bailiff', 'bajarangabali', 'bak', 'bakra',\n",
       "       'bakrid', 'balance', 'ball', 'baller', 'balloon', 'balls', 'bam',\n",
       "       'bambling', 'bandages', 'bang', 'bangb', 'bangbabes', 'bani',\n",
       "       'bank', 'banks', 'banter', 'bao', 'bar', 'barbie', 'barcelona',\n",
       "       'bare', 'barely', 'bari', 'barolla', 'barry', 'bars', 'base',\n",
       "       'based', 'bash', 'basic', 'basically', 'basket', 'basketball',\n",
       "       'basq', 'bat', 'batch', 'bath', 'bathe', 'bathing', 'bathroom',\n",
       "       'batsman', 'batt', 'battery', 'battle', 'bawling', 'bay', 'bb',\n",
       "       'bbc', 'bbd', 'bbdeluxe', 'bc', 'bcaz', 'bck', 'bcm',\n",
       "       'bcm1896wc1n3xx', 'bcm4284', 'bcmsfwc1n3xx', 'bcoz', 'bcs', 'bcum',\n",
       "       'bcums', 'bday', 'be', 'beads', 'bear', 'bears', 'beatings',\n",
       "       'beauties', 'beautiful', 'beauty', 'bec', 'because', 'becausethey',\n",
       "       'become', 'becomes', 'becoz', 'bed', 'bedbut', 'bedreal', 'bedrm',\n",
       "       'bedroom', 'been', 'beendropping', 'beer', 'beerage', 'beers',\n",
       "       'befor', 'before', 'beforehand', 'beg', 'begging', 'begin',\n",
       "       'begun', 'behave', 'behind', 'bein', 'being', 'believe', 'belive',\n",
       "       'bell', 'bellearlier', 'belligerent', 'belly', 'belongs', 'belovd',\n",
       "       'beloved', 'belt', 'ben', 'bend', 'beneath', 'beneficiary',\n",
       "       'benefits', 'beside', 'best', 'best1', 'bet', 'beta', 'beth',\n",
       "       'betta', 'better', 'bettersn', 'bettr', 'between', 'beware',\n",
       "       'beyond', 'bf', 'bffs', 'bhaji', 'bhaskar', 'bian', 'biatch',\n",
       "       'bid', 'big', 'bigger', 'biggest', 'bill', 'billed', 'billing',\n",
       "       'billion', 'bills', 'billy', 'bilo', 'bimbo', 'bin', 'biola',\n",
       "       'bird', 'birds', 'birla', 'biro', 'birth', 'birthdate', 'birthday',\n",
       "       'bishan', 'bit', 'bitch', 'bitching', 'bite', 'bites', 'bits',\n",
       "       'biz', 'bk', 'black', 'blackberry', 'blacko', 'blah', 'blake',\n",
       "       'blame', 'blank', 'blanked', 'blastin', 'bleak', 'bless',\n",
       "       'blessed', 'blessing', 'blessings', 'blind', 'block', 'blog',\n",
       "       'blogging', 'blogspot', 'bloke', 'blonde', 'bloo', 'blood',\n",
       "       'bloody', 'bloomberg', 'blow', 'blowing', 'blu', 'blue',\n",
       "       'bluetooth', 'bluff', 'blur', 'bmw', 'boat', 'boatin', 'bob',\n",
       "       'body', 'boggy', 'bognor', 'bold', 'boltblue', 'bomb', 'bone',\n",
       "       'bong', 'bonus', 'boo', 'boobs', 'book', 'booked', 'bookedthe',\n",
       "       'booking', 'bookmark', 'books', 'bookshelf', 'boooo', 'boost',\n",
       "       'booty', 'bootydelious', 'borderline', 'bored', 'borin', 'boring',\n",
       "       'born', 'borrow', 'boss', 'boston', 'bot', 'both', 'bother',\n",
       "       'bothering', 'bottle', 'bottom', 'bought', 'bout', 'bowl', 'bowls',\n",
       "       'box', 'box1146', 'box139', 'box177', 'box245c2150pm', 'box326',\n",
       "       'box334', 'box334sk38ch', 'box385', 'box39822', 'box403', 'box420',\n",
       "       'box42wr29c', 'box61', 'box95qu', 'box97n7qp', 'boy', 'boye',\n",
       "       'boyf', 'boyfriend', 'boys', 'boytoy', 'bpo', 'brah', 'brain',\n",
       "       'braindance', 'brainless', 'brainy', 'brand', 'brandy', 'bras',\n",
       "       'bray', 'brdget', 'bread', 'breadstick', 'break', 'breaker',\n",
       "       'breakin', 'breaking', 'breaks', 'breath', 'breathe', 'breathe1',\n",
       "       'breather', 'breathing', 'breeze', 'breezy', 'bribe', 'bridal',\n",
       "       'bridgwater', 'bright', 'brighten', 'brilliant', 'brilliantly',\n",
       "       'brin', 'bring', 'bringing', 'brings', 'brisk', 'brison',\n",
       "       'bristol', 'british', 'britney', 'bro', 'broad', 'broadband',\n",
       "       'broke', 'broken', 'brolly', 'bros', 'broth', 'brothas', 'brother',\n",
       "       'brought', 'brown', 'brownie', 'browse', 'browser', 'browsin',\n",
       "       'bruce', 'brum', 'bruv', 'bslvyl', 'bsn', 'bsnl', 'bstfrnd', 'bt',\n",
       "       'btw', 'btwn', 'bubbletext', 'bucks', 'bud'], dtype=object)"
      ]
     },
     "execution_count": 44,
     "metadata": {},
     "output_type": "execute_result"
    }
   ],
   "source": [
    "# Show Vocabulary\n",
    "cv.get_feature_names_out()[1000:1500]"
   ]
  },
  {
   "cell_type": "code",
   "execution_count": 45,
   "metadata": {},
   "outputs": [
    {
     "data": {
      "text/plain": [
       "'buddys'"
      ]
     },
     "execution_count": 45,
     "metadata": {},
     "output_type": "execute_result"
    }
   ],
   "source": [
    "cv.get_feature_names_out()[1500] "
   ]
  },
  {
   "cell_type": "markdown",
   "metadata": {},
   "source": [
    "<h1 style=\"font-family: 'Times New Roman'; letter-spacing: 0.08em;\">Navie Bayes Model</h1>"
   ]
  },
  {
   "cell_type": "code",
   "execution_count": 46,
   "metadata": {},
   "outputs": [
    {
     "name": "stdout",
     "output_type": "stream",
     "text": [
      "              precision    recall  f1-score   support\n",
      "\n",
      "           0       0.99      1.00      0.99      1191\n",
      "           1       0.98      0.94      0.96       202\n",
      "\n",
      "    accuracy                           0.99      1393\n",
      "   macro avg       0.99      0.97      0.98      1393\n",
      "weighted avg       0.99      0.99      0.99      1393\n",
      "\n"
     ]
    }
   ],
   "source": [
    "model = MultinomialNB()\n",
    "model.fit(X_train_count,y_train)\n",
    "X_test_count = cv.transform(X_test)\n",
    "\n",
    "y_pred = model.predict(X_test_count)\n",
    "print(classification_report(y_test, y_pred))"
   ]
  },
  {
   "cell_type": "markdown",
   "metadata": {},
   "source": [
    "<h1 style=\"font-family: 'Times New Roman'; letter-spacing: 0.08em;\">Evaluate Performance</h1>"
   ]
  },
  {
   "cell_type": "code",
   "execution_count": 48,
   "metadata": {},
   "outputs": [
    {
     "data": {
      "image/png": "[encoded data removed]",
      "text/plain": [
       "<Figure size 640x480 with 2 Axes>"
      ]
     },
     "metadata": {},
     "output_type": "display_data"
    }
   ],
   "source": [
    "cm = confusion_matrix(y_test, y_pred)\n",
    "disp = ConfusionMatrixDisplay(\n",
    "    confusion_matrix=cm, display_labels=['Class 0', 'Class 1'])\n",
    "disp.plot()\n",
    "plt.show()"
   ]
  },
  {
   "cell_type": "code",
   "execution_count": 50,
   "metadata": {},
   "outputs": [
    {
     "name": "stdout",
     "output_type": "stream",
     "text": [
      "Accuracy on train data :  0.9932998324958124\n",
      "--------------------------------------------------\n",
      "Accuracy on test data(overall) : :  0.9885139985642498\n"
     ]
    }
   ],
   "source": [
    "NaiveBayes = MultinomialNB()\n",
    "\n",
    "X_train_count = cv.fit_transform(X_train.values)\n",
    "NaiveBayes.fit(X_train_count, y_train)\n",
    "prediction_on_training_data = NaiveBayes.predict(X_train_count)\n",
    "accuracy_on_training_data = accuracy_score(y_train, prediction_on_training_data)\n",
    "print('Accuracy on train data : ', accuracy_on_training_data)\n",
    "\n",
    "print(\"-\"*50)\n",
    "\n",
    "prediction_on_test_data = NaiveBayes.predict(cv.transform(X_test.values)) \n",
    "accuracy_on_test_data = accuracy_score(y_test, prediction_on_test_data)\n",
    "print('Accuracy on test data(overall) : : ', accuracy_on_test_data)"
   ]
  },
  {
   "cell_type": "markdown",
   "metadata": {},
   "source": [
    "<h1 style=\"font-family: 'Times New Roman'; letter-spacing: 0.08em;\">Make Prediction</h1>"
   ]
  },
  {
   "cell_type": "code",
   "execution_count": 51,
   "metadata": {},
   "outputs": [
    {
     "data": {
      "text/plain": [
       "array([0, 1], dtype=int64)"
      ]
     },
     "execution_count": 51,
     "metadata": {},
     "output_type": "execute_result"
    }
   ],
   "source": [
    "emails = [\n",
    "    'Hey mohamd, can we get together to watch footbal game tomorrow?',\n",
    "    'Upto 20% discount on parking, exclusive offer just for you. Dont miss this reward!']\n",
    "\n",
    "emails_count = cv.transform(emails)\n",
    "model.predict(emails_count)"
   ]
  },
  {
   "cell_type": "markdown",
   "metadata": {},
   "source": [
    "<h1 style=\"font-family: 'Times New Roman'; letter-spacing: 0.08em;\">Sklearn Pipeline</h1>"
   ]
  },
  {
   "cell_type": "code",
   "execution_count": 52,
   "metadata": {},
   "outputs": [
    {
     "name": "stdout",
     "output_type": "stream",
     "text": [
      "0.9885139985642498\n"
     ]
    }
   ],
   "source": [
    "clf = Pipeline([\n",
    "    ('vectorizer', CountVectorizer(ngram_range=(1, 1))),\n",
    "    ('nb', MultinomialNB())\n",
    "])\n",
    "\n",
    "\n",
    "clf.fit(X_train, y_train)\n",
    "print(clf.score(X_test, y_test))"
   ]
  },
  {
   "cell_type": "code",
   "execution_count": 53,
   "metadata": {},
   "outputs": [
    {
     "data": {
      "text/plain": [
       "array([0, 1], dtype=int64)"
      ]
     },
     "execution_count": 53,
     "metadata": {},
     "output_type": "execute_result"
    }
   ],
   "source": [
    "clf.predict(emails)"
   ]
  },
  {
   "cell_type": "code",
   "execution_count": 54,
   "metadata": {},
   "outputs": [
    {
     "data": {
      "text/plain": [
       "['spam_classifier.pkl']"
      ]
     },
     "execution_count": 54,
     "metadata": {},
     "output_type": "execute_result"
    }
   ],
   "source": [
    "joblib.dump(clf, 'spam_classifier.pkl')"
   ]
  }
 ],
 "metadata": {
  "kernelspec": {
   "display_name": "Python 3",
   "language": "python",
   "name": "python3"
  },
  "language_info": {
   "codemirror_mode": {
    "name": "ipython",
    "version": 3
   },
   "file_extension": ".py",
   "mimetype": "text/x-python",
   "name": "python",
   "nbconvert_exporter": "python",
   "pygments_lexer": "ipython3",
   "version": "3.11.2"
  }
 },
 "nbformat": 4,
 "nbformat_minor": 2
}
